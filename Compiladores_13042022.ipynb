{
  "nbformat": 4,
  "nbformat_minor": 0,
  "metadata": {
    "colab": {
      "name": "Compiladores 13042022.ipynb",
      "provenance": [],
      "include_colab_link": true
    },
    "kernelspec": {
      "name": "python3",
      "display_name": "Python 3"
    },
    "language_info": {
      "name": "python"
    }
  },
  "cells": [
    {
      "cell_type": "markdown",
      "metadata": {
        "id": "view-in-github",
        "colab_type": "text"
      },
      "source": [
        "<a href=\"https://colab.research.google.com/github/marcelo130102/Compiladores/blob/master/Compiladores_13042022.ipynb\" target=\"_parent\"><img src=\"https://colab.research.google.com/assets/colab-badge.svg\" alt=\"Open In Colab\"/></a>"
      ]
    },
    {
      "cell_type": "code",
      "execution_count": null,
      "metadata": {
        "colab": {
          "base_uri": "https://localhost:8080/"
        },
        "id": "SN79jq70oF7E",
        "outputId": "90f25bb9-4411-44ad-cedb-3264fdb97fa7"
      },
      "outputs": [
        {
          "output_type": "stream",
          "name": "stdout",
          "text": [
            "Reading package lists... Done\n",
            "Building dependency tree       \n",
            "Reading state information... Done\n",
            "The following additional packages will be installed:\n",
            "  libfl-dev libfl2 libsigsegv2 m4\n",
            "Suggested packages:\n",
            "  bison flex-doc m4-doc\n",
            "The following NEW packages will be installed:\n",
            "  flex libfl-dev libfl2 libsigsegv2 m4\n",
            "0 upgraded, 5 newly installed, 0 to remove and 40 not upgraded.\n",
            "Need to get 545 kB of archives.\n",
            "After this operation, 1,511 kB of additional disk space will be used.\n",
            "Get:1 http://archive.ubuntu.com/ubuntu bionic/main amd64 libsigsegv2 amd64 2.12-1 [14.7 kB]\n",
            "Get:2 http://archive.ubuntu.com/ubuntu bionic/main amd64 m4 amd64 1.4.18-1 [197 kB]\n",
            "Get:3 http://archive.ubuntu.com/ubuntu bionic/main amd64 flex amd64 2.6.4-6 [316 kB]\n",
            "Get:4 http://archive.ubuntu.com/ubuntu bionic/main amd64 libfl2 amd64 2.6.4-6 [11.4 kB]\n",
            "Get:5 http://archive.ubuntu.com/ubuntu bionic/main amd64 libfl-dev amd64 2.6.4-6 [6,320 B]\n",
            "Fetched 545 kB in 2s (293 kB/s)\n",
            "Selecting previously unselected package libsigsegv2:amd64.\n",
            "(Reading database ... 155501 files and directories currently installed.)\n",
            "Preparing to unpack .../libsigsegv2_2.12-1_amd64.deb ...\n",
            "Unpacking libsigsegv2:amd64 (2.12-1) ...\n",
            "Selecting previously unselected package m4.\n",
            "Preparing to unpack .../archives/m4_1.4.18-1_amd64.deb ...\n",
            "Unpacking m4 (1.4.18-1) ...\n",
            "Selecting previously unselected package flex.\n",
            "Preparing to unpack .../flex_2.6.4-6_amd64.deb ...\n",
            "Unpacking flex (2.6.4-6) ...\n",
            "Selecting previously unselected package libfl2:amd64.\n",
            "Preparing to unpack .../libfl2_2.6.4-6_amd64.deb ...\n",
            "Unpacking libfl2:amd64 (2.6.4-6) ...\n",
            "Selecting previously unselected package libfl-dev:amd64.\n",
            "Preparing to unpack .../libfl-dev_2.6.4-6_amd64.deb ...\n",
            "Unpacking libfl-dev:amd64 (2.6.4-6) ...\n",
            "Setting up libsigsegv2:amd64 (2.12-1) ...\n",
            "Setting up m4 (1.4.18-1) ...\n",
            "Setting up libfl2:amd64 (2.6.4-6) ...\n",
            "Setting up flex (2.6.4-6) ...\n",
            "Setting up libfl-dev:amd64 (2.6.4-6) ...\n",
            "Processing triggers for man-db (2.8.3-2ubuntu0.1) ...\n",
            "Processing triggers for libc-bin (2.27-3ubuntu1.3) ...\n",
            "/sbin/ldconfig.real: /usr/local/lib/python3.7/dist-packages/ideep4py/lib/libmkldnn.so.0 is not a symbolic link\n",
            "\n",
            "Reading package lists... Done\n",
            "Building dependency tree       \n",
            "Reading state information... Done\n",
            "The following additional packages will be installed:\n",
            "  libbison-dev\n",
            "Suggested packages:\n",
            "  bison-doc\n",
            "The following NEW packages will be installed:\n",
            "  bison libbison-dev\n",
            "0 upgraded, 2 newly installed, 0 to remove and 40 not upgraded.\n",
            "Need to get 605 kB of archives.\n",
            "After this operation, 1,811 kB of additional disk space will be used.\n",
            "Get:1 http://archive.ubuntu.com/ubuntu bionic/main amd64 libbison-dev amd64 2:3.0.4.dfsg-1build1 [339 kB]\n",
            "Get:2 http://archive.ubuntu.com/ubuntu bionic/main amd64 bison amd64 2:3.0.4.dfsg-1build1 [266 kB]\n",
            "Fetched 605 kB in 2s (382 kB/s)\n",
            "Selecting previously unselected package libbison-dev:amd64.\n",
            "(Reading database ... 155658 files and directories currently installed.)\n",
            "Preparing to unpack .../libbison-dev_2%3a3.0.4.dfsg-1build1_amd64.deb ...\n",
            "Unpacking libbison-dev:amd64 (2:3.0.4.dfsg-1build1) ...\n",
            "Selecting previously unselected package bison.\n",
            "Preparing to unpack .../bison_2%3a3.0.4.dfsg-1build1_amd64.deb ...\n",
            "Unpacking bison (2:3.0.4.dfsg-1build1) ...\n",
            "Setting up libbison-dev:amd64 (2:3.0.4.dfsg-1build1) ...\n",
            "Setting up bison (2:3.0.4.dfsg-1build1) ...\n",
            "update-alternatives: using /usr/bin/bison.yacc to provide /usr/bin/yacc (yacc) in auto mode\n",
            "Processing triggers for man-db (2.8.3-2ubuntu0.1) ...\n"
          ]
        }
      ],
      "source": [
        "!apt-get install flex\n",
        "!apt-get install bison"
      ]
    },
    {
      "cell_type": "code",
      "source": [
        "%%writefile reconocedor.l\n",
        "/* Programa que reconoce palabras */\n",
        "\n",
        "/* Sección DEFINICIONES */\n",
        "%{\n",
        "#include <stdio.h>\n",
        "\n",
        "%}\n",
        "\n",
        "/* Sección REGLAS */\n",
        "VERBO (es|estoy|soy|era|ser|hacer|hizo|puede|podria)\n",
        "ADVERBIO (mucho|bastante|poco|muy|dentro|fuera|tampoco)\n",
        "PREPOSICION (a|de|desde|durante|en|hasta|por|entre)\n",
        "CONJUNCION (y|ni|que|pero|aunque|o|sino|siquiera|pues)\n",
        "ADJETIVO (obediente|feliz|difícil|mío|tuyo|tres|cuatro|grande)\n",
        "PRONOMBRE (yo|usted|él|ella|nosotros|ustedes|ellos|ellas)\n",
        "\n",
        "%%\n",
        "[ \\t]+          /*ignorar espacios en blanco*/\n",
        "{VERBO}         {printf(\"%s: es un verbo\\n\", yytext);}\n",
        "{ADVERBIO}      {printf(\"%s: es un adverbio\\n\", yytext);}\n",
        "{PREPOSICION}   {printf(\"%s: es una preposición\\n\", yytext);}\n",
        "{CONJUNCION}    {printf(\"%s: es una conjunción\\n\", yytext);}\n",
        "{ADJETIVO}      {printf(\"%s: es un adjetivo\\n\", yytext);}\n",
        "{PRONOMBRE}     {printf(\"%s: es un pronombre\\n\", yytext);}\n",
        "[a-zA-Z]+       {printf(\"%s: no se puede reconocer\\n\", yytext);}\n",
        ".|\\n            {ECHO;}\n",
        "%%\n",
        "\n",
        "/* Sección CODIGO USUARIO */\n",
        "int yywrap() {}\n",
        "int main(int argc, char **argv)\n",
        "{\n",
        " \tyylex();\n",
        "\treturn 0;\n",
        "}\n"
      ],
      "metadata": {
        "colab": {
          "base_uri": "https://localhost:8080/"
        },
        "id": "IqwbGbBBoOMN",
        "outputId": "fa9d4b37-c662-480c-d407-32a701bcfeaf"
      },
      "execution_count": null,
      "outputs": [
        {
          "output_type": "stream",
          "name": "stdout",
          "text": [
            "Writing reconocedor.l\n"
          ]
        }
      ]
    },
    {
      "cell_type": "code",
      "source": [
        "%%writefile input.dat\n",
        "yo estoy feliz\n",
        "ese cuaderno es mío\n"
      ],
      "metadata": {
        "colab": {
          "base_uri": "https://localhost:8080/"
        },
        "id": "l8sJ4vL1obPR",
        "outputId": "fb8634ce-527b-49fd-937e-effe86ba7988"
      },
      "execution_count": null,
      "outputs": [
        {
          "output_type": "stream",
          "name": "stdout",
          "text": [
            "Writing input.dat\n"
          ]
        }
      ]
    },
    {
      "cell_type": "code",
      "source": [
        "!flex reconocedor.l\n",
        "!gcc lex.yy.c -o reco\n",
        "!./reco < input.dat"
      ],
      "metadata": {
        "colab": {
          "base_uri": "https://localhost:8080/"
        },
        "id": "SH9obUk3oemU",
        "outputId": "eff0e668-7908-487e-8736-c67beebce751"
      },
      "execution_count": null,
      "outputs": [
        {
          "output_type": "stream",
          "name": "stdout",
          "text": [
            "yo: es un pronombre\n",
            "estoy: es un verbo\n",
            "feliz: es un adjetivo\n",
            "\n",
            "ese: no se puede reconocer\n",
            "cuaderno: no se puede reconocer\n",
            "es: es un verbo\n",
            "mío: es un adjetivo\n"
          ]
        }
      ]
    },
    {
      "cell_type": "code",
      "source": [
        "%%writefile  reco_tabla.l\n",
        "/* Programa que reconoce palabras utilizando una \n",
        "tabla de simbolos */\n",
        "\n",
        "/* Sección DEFINICIONES */\n",
        "%{\n",
        "#include <stdio.h>\n",
        "enum{\n",
        "    BUSCAR = 0,\n",
        "    VERBO,\n",
        "    ADJETIVO,\n",
        "    ADVERBIO,\n",
        "    SUSTANTIVO,\n",
        "    PREPOSICION,\n",
        "    PRONOMBRE,\n",
        "    CONJUNCION\n",
        "};\n",
        "\n",
        "int estado;\n",
        "int agregar_palabra(int tipo, char *palabra);\n",
        "int buscar_palabra(char *palabra);\n",
        "%}\n",
        "\n",
        "/* Sección REGLAS */\n",
        "%%\n",
        "\\n          {estado = BUSCAR;} /*retornar a estado default*/\n",
        "^verbo      {estado = VERBO;}\n",
        "^adjetivo   {estado = ADJETIVO;}\n",
        "^adverbio   {estado = ADVERBIO;}\n",
        "^sustantivo {estado = SUSTANTIVO;}\n",
        "^preposicion {estado = PREPOSICION;}\n",
        "^pronombre  {estado = PRONOMBRE;}\n",
        "^conjuncion {estado = CONJUNCION;}\n",
        "\n",
        "[a-zA-Z]+   {/*procesar palabras*/\n",
        "                if (estado != BUSCAR) {\n",
        "                    agregar_palabra(estado, yytext);\n",
        "                }\n",
        "                else {\n",
        "                    switch ( buscar_palabra(yytext) ) {\n",
        "                    case VERBO: printf(\"%s: verbo\\n\", yytext); break;\n",
        "                    case ADJETIVO: printf(\"%s: adj.\\n\", yytext); break;\n",
        "                    case ADVERBIO: printf(\"%s: adv.\\n\", yytext); break;\n",
        "                    case SUSTANTIVO: printf(\"%s: sust.\\n\", yytext); break;\n",
        "                    case PREPOSICION: printf(\"%s: prep.\\n\", yytext); break;\n",
        "                    case PRONOMBRE: printf(\"%s: pron.\\n\", yytext); break;\n",
        "                    case CONJUNCION: printf(\"%s: conj.\\n\", yytext); break;\n",
        "                    default:\n",
        "                        printf(\"%s: no se puede reconocer\\n\", yytext); \n",
        "                        break;\n",
        "                    }\n",
        "                }\n",
        "            }/*fin procesar palabras*/\n",
        "                \n",
        ".           /*ignorar cualquier otro símbolo*/\n",
        "%%\n",
        "\n",
        "/* Sección CODIGO USUARIO */\n",
        "int yywrap() {}\n",
        "int main(int argc, char **argv)\n",
        "{\n",
        " \tyylex();\n",
        "\treturn 0;\n",
        "}\n",
        "\n",
        "/* definir una lista enlazada de palabras y tipos*/\n",
        "struct palabra {\n",
        "    char *nombre_palabra;\n",
        "    int tipo_palabra;\n",
        "    struct palabra *sgte;\n",
        "};\n",
        "\n",
        "struct palabra *lista = NULL; /*primer elemento de la lista*/\n",
        "\n",
        "int agregar_palabra(int tipo, char *palabra) {\n",
        "    struct palabra *p; /*entrada de la lista*/\n",
        "    \n",
        "    if ( buscar_palabra(palabra) != BUSCAR ) {\n",
        "        printf(\"La palabra %s ya fue definida!!!\\n\", palabra);\n",
        "        return 0;\n",
        "    }\n",
        "    \n",
        "    /* asignar espacio de memoria */\n",
        "    p = malloc( sizeof( struct palabra ) );\n",
        "    p->nombre_palabra = malloc( strlen(palabra) + 1 ); \n",
        "    /* copiar datos de palabra */\n",
        "    strcpy( p->nombre_palabra, palabra );\n",
        "    p->tipo_palabra = tipo;    \n",
        "    /* enlazar nueva entrada a lista */\n",
        "    p->sgte = lista;\n",
        "    lista = p;\n",
        "    return 1;\n",
        "}\n",
        "\n",
        "int buscar_palabra(char *palabra){\n",
        "    struct palabra *p = lista;\n",
        "    \n",
        "    /* buscar palabra en la lista */\n",
        "    while (p != NULL) {\n",
        "        if ( strcmp(p->nombre_palabra, palabra) == 0 )\n",
        "            return p->tipo_palabra;\n",
        "        p = p->sgte;\n",
        "    }\n",
        "    \n",
        "    return BUSCAR; /*no encontrado*/\n",
        "}\n"
      ],
      "metadata": {
        "colab": {
          "base_uri": "https://localhost:8080/"
        },
        "id": "8x0sR6Tesfiw",
        "outputId": "f7d9721a-0023-486f-aff2-c46021d97952"
      },
      "execution_count": null,
      "outputs": [
        {
          "output_type": "stream",
          "name": "stdout",
          "text": [
            "Writing reco_tabla.l\n"
          ]
        }
      ]
    },
    {
      "cell_type": "code",
      "source": [
        "%%writefile input.dat\n",
        "verbo es estoy soy era ser hacer hizo puede podria\n",
        "es\n",
        "sustantivo hombre gato planta mueble pelota\n",
        "verbo comer correr salir\n",
        "verbo dormir estudiar descansar\n",
        "hombre correr\n",
        "comer salir descansar\n",
        "verbo hablar\n",
        "mueble hablar soy \n",
        "\n"
      ],
      "metadata": {
        "colab": {
          "base_uri": "https://localhost:8080/"
        },
        "id": "UVW6xL5rs2NV",
        "outputId": "0baec4d0-be96-40b5-a132-526d870e86b4"
      },
      "execution_count": null,
      "outputs": [
        {
          "output_type": "stream",
          "name": "stdout",
          "text": [
            "Overwriting input.dat\n"
          ]
        }
      ]
    },
    {
      "cell_type": "code",
      "source": [
        "RESERVADA begin end while for case do if else \n",
        "TIPODATO int float double char vector array\n",
        "\n"
      ],
      "metadata": {
        "id": "BJHyZUXdtp2N"
      },
      "execution_count": null,
      "outputs": []
    },
    {
      "cell_type": "code",
      "source": [
        "!flex reco_tabla.l\n",
        "!gcc lex.yy.c -o reco\n",
        "!./reco < input.dat"
      ],
      "metadata": {
        "colab": {
          "base_uri": "https://localhost:8080/"
        },
        "id": "L_XQFnV7tUA7",
        "outputId": "9a800b39-37c7-4e26-ccda-aba9db190a6c"
      },
      "execution_count": null,
      "outputs": [
        {
          "output_type": "stream",
          "name": "stdout",
          "text": [
            "es: verbo\n",
            "hombre: sust.\n",
            "correr: verbo\n",
            "comer: verbo\n",
            "salir: verbo\n",
            "descansar: verbo\n",
            "mueble: sust.\n",
            "hablar: verbo\n",
            "soy: verbo\n"
          ]
        }
      ]
    },
    {
      "cell_type": "markdown",
      "source": [
        "# Avance 25 - 04 - 2022"
      ],
      "metadata": {
        "id": "10zQQVaEhvHV"
      }
    },
    {
      "cell_type": "code",
      "source": [
        "%%writefile lexer.l\n",
        "/* Programa (lexer) que será llamado desde un parser */\n",
        "\n",
        "/* Sección DEFINICIONES */\n",
        "%{\n",
        "#include <stdio.h>\n",
        "#include \"parser.tab.h\"\n",
        "\n",
        "#define BUSCAR 0\n",
        "int estado;\n",
        "int agregar_palabra(int tipo, char *palabra);\n",
        "int buscar_palabra(char *palabra);\n",
        "%}\n",
        "\n",
        "/* Sección REGLAS */\n",
        "%%\n",
        "\\n          {estado = BUSCAR;}\n",
        "^verbo      {estado = VERBO;}\n",
        "^adjetivo   {estado = ADJETIVO;}\n",
        "^adverbio   {estado = ADVERBIO;}\n",
        "^sustantivo {estado = SUSTANTIVO;}\n",
        "^preposicion {estado = PREPOSICION;}\n",
        "^pronombre  {estado = PRONOMBRE;}\n",
        "^conjuncion {estado = CONJUNCION;}\n",
        "\n",
        "[a-zA-Z]+   {/*procesar palabras*/\n",
        "                if (estado != BUSCAR) {\n",
        "                    agregar_palabra(estado, yytext);\n",
        "                }\n",
        "                else {\n",
        "                    switch ( buscar_palabra(yytext) ) {\n",
        "                    case VERBO:{ printf(\"VERBO\\n\"); return VERBO;}\n",
        "                    case ADJETIVO:{ printf(\"ADJETIVO\\n\"); return ADJETIVO;}\n",
        "                    case ADVERBIO:{ printf(\"ADVERBIO\\n\"); return ADVERBIO;}\n",
        "                    case SUSTANTIVO:{ printf(\"SUSTANTIVO\\n\"); return SUSTANTIVO;}\n",
        "                    case PREPOSICION:{ printf(\"PREPOSICION\\n\"); return PREPOSICION;}\n",
        "                    case PRONOMBRE:{ printf(\"PRONOMBRE\\n\"); return PRONOMBRE;}\n",
        "                    case CONJUNCION:{ printf(\"CONJUNCION\\n\"); return CONJUNCION;}\n",
        "                    default:\n",
        "                        printf(\"%s: no se reconoce\\n\", yytext); \n",
        "                        /*no retornar nada*/\n",
        "                    }\n",
        "                }\n",
        "            }/*fin procesar palabras*/\n",
        "                \n",
        ".           /*ignorar cualquier otro símbolo*/\n",
        "%%\n",
        "\n",
        "/* Sección CODIGO USUARIO */\n",
        "/* definir una lista enlazada de palabras y tipos*/\n",
        "struct palabra {\n",
        "    char *nombre_palabra;\n",
        "    int tipo_palabra;\n",
        "    struct palabra *sgte;\n",
        "};\n",
        "\n",
        "struct palabra *lista = NULL; /*primer elemento de la lista*/\n",
        "\n",
        "int agregar_palabra(int tipo, char *palabra) {\n",
        "    struct palabra *p; /*entrada de la lista*/\n",
        "    \n",
        "    if ( buscar_palabra(palabra) != BUSCAR ) {\n",
        "        printf(\"La palabra %s ya fue definida!!!\\n\", palabra);\n",
        "        return 0; //no funciono\n",
        "    }\n",
        "    \n",
        "    /* asignar espacio de memoria */\n",
        "    p = malloc( sizeof( struct palabra ) );\n",
        "    p->nombre_palabra = malloc( strlen(palabra) + 1 ); \n",
        "    /* copiar datos de palabra */\n",
        "    strcpy( p->nombre_palabra, palabra );\n",
        "    p->tipo_palabra = tipo;    \n",
        "    /* enlazar nueva entrada a lista */\n",
        "    p->sgte = lista;\n",
        "    lista = p;\n",
        "    return 1; //funciono\n",
        "}\n",
        "\n",
        "int buscar_palabra(char *palabra){\n",
        "    struct palabra *p = lista;\n",
        "    \n",
        "    /* buscar palabra en la lista */\n",
        "    while (p != NULL) {\n",
        "        if ( strcmp(p->nombre_palabra, palabra) == 0 )\n",
        "            return p->tipo_palabra;\n",
        "        p = p->sgte;\n",
        "    }\n",
        "    \n",
        "    return BUSCAR; /*no encontrado*/\n",
        "}"
      ],
      "metadata": {
        "colab": {
          "base_uri": "https://localhost:8080/"
        },
        "id": "A7enjguaH_HP",
        "outputId": "230f2a55-cb2e-4964-e9d2-b51c83fd7f86"
      },
      "execution_count": null,
      "outputs": [
        {
          "output_type": "stream",
          "name": "stdout",
          "text": [
            "Writing lexer.l\n"
          ]
        }
      ]
    },
    {
      "cell_type": "code",
      "source": [
        "%%writefile parser.y\n",
        "/* Analizador sintactico para reconocer sentencias  */\n",
        "\n",
        "/* Sección DEFINICIONES */\n",
        "%{\n",
        "#include <stdio.h>\n",
        "//#define YYERROR_VERBOSE\n",
        "\n",
        "int yylex();\n",
        "int yyerror(char *s);\n",
        "%}\n",
        "\n",
        "/* Sección REGLAS */\n",
        "%token SUSTANTIVO PRONOMBRE VERBO ADVERBIO ADJETIVO PREPOSICION CONJUNCION  \n",
        "\n",
        "%%\n",
        "sentencias: sentencia sentencias \n",
        "    | sentencia\n",
        "    ;\n",
        "sentencia:  sujeto VERBO objeto  {printf(\"La sentencia es valida: SVS\\n\");}\n",
        "    ;\n",
        "sujeto:     SUSTANTIVO\n",
        "    |       PRONOMBRE\n",
        "    ;\n",
        "objeto:     SUSTANTIVO\n",
        "    ;\n",
        "%%\n",
        "\n",
        "/* Sección CODIGO USUARIO */\n",
        "FILE *yyin;\n",
        "int main() {\n",
        "    do {\n",
        "        yyparse();\n",
        "    }\n",
        "    while ( !feof(yyin) );\n",
        "    \n",
        "    return 0;\n",
        "}\n",
        "\n",
        "int yyerror(char *s) {\n",
        "    fprintf(stderr, \"JS:%s\\n\", s);\n",
        "    return 0;\n",
        "}\n"
      ],
      "metadata": {
        "colab": {
          "base_uri": "https://localhost:8080/"
        },
        "id": "jSorAjXRIOft",
        "outputId": "734e484d-bba9-4e06-d9ce-8f2a34482e3f"
      },
      "execution_count": null,
      "outputs": [
        {
          "output_type": "stream",
          "name": "stdout",
          "text": [
            "Writing parser.y\n"
          ]
        }
      ]
    },
    {
      "cell_type": "code",
      "source": [
        "%%writefile input.dat\n",
        "sustantivo hombre gato maiz mueble pelota\n",
        "verbo come corre sale\n",
        "hombre come pelota\n",
        "verbo muerde vuela\n",
        "gato muerde hola"
      ],
      "metadata": {
        "colab": {
          "base_uri": "https://localhost:8080/"
        },
        "id": "LDsY1cyRIbFA",
        "outputId": "6df150e8-137e-41b3-9b80-3316577b78a7"
      },
      "execution_count": null,
      "outputs": [
        {
          "output_type": "stream",
          "name": "stdout",
          "text": [
            "Overwriting input.dat\n"
          ]
        }
      ]
    },
    {
      "cell_type": "code",
      "source": [
        "!flex lexer.l"
      ],
      "metadata": {
        "id": "MMeeuroRIi8L"
      },
      "execution_count": null,
      "outputs": []
    },
    {
      "cell_type": "code",
      "source": [
        "!bison -d parser.y"
      ],
      "metadata": {
        "id": "Vvmc9xTiJeK4"
      },
      "execution_count": null,
      "outputs": []
    },
    {
      "cell_type": "code",
      "source": [
        "!ls"
      ],
      "metadata": {
        "colab": {
          "base_uri": "https://localhost:8080/"
        },
        "id": "6RS4C7y-JlP3",
        "outputId": "50b9690a-4b50-4a18-c515-1d1be84ebebc"
      },
      "execution_count": null,
      "outputs": [
        {
          "output_type": "stream",
          "name": "stdout",
          "text": [
            "input.dat  lex.yy.c  parser.tab.c  parser.y\n",
            "lexer.l    parser.l  parser.tab.h  sample_data\n"
          ]
        }
      ]
    },
    {
      "cell_type": "code",
      "source": [
        ""
      ],
      "metadata": {
        "id": "y1kWShpUJ10J"
      },
      "execution_count": null,
      "outputs": []
    },
    {
      "cell_type": "code",
      "source": [
        "!gcc -c lex.yy.c parser.tab.c"
      ],
      "metadata": {
        "id": "paYg0WxrJsx4"
      },
      "execution_count": null,
      "outputs": []
    },
    {
      "cell_type": "code",
      "source": [
        "!ls"
      ],
      "metadata": {
        "colab": {
          "base_uri": "https://localhost:8080/"
        },
        "id": "MDsmdsU3J3Bh",
        "outputId": "03b6e0bd-f616-477b-f9b2-57083268b779"
      },
      "execution_count": null,
      "outputs": [
        {
          "output_type": "stream",
          "name": "stdout",
          "text": [
            "input.dat  lex.yy.c  parser.l\t   parser.tab.h  parser.y\n",
            "lexer.l    lex.yy.o  parser.tab.c  parser.tab.o  sample_data\n"
          ]
        }
      ]
    },
    {
      "cell_type": "code",
      "source": [
        "!gcc -o lexpar lex.yy.o parser.tab.o -ll"
      ],
      "metadata": {
        "id": "KaEWMYDxJ6BH"
      },
      "execution_count": null,
      "outputs": []
    },
    {
      "cell_type": "code",
      "source": [
        "!./lexpar < input.dat"
      ],
      "metadata": {
        "colab": {
          "base_uri": "https://localhost:8080/"
        },
        "id": "Jzk71pmtJ8-7",
        "outputId": "b79fb7c1-4e10-43c5-b9a2-6999e9e31897"
      },
      "execution_count": null,
      "outputs": [
        {
          "output_type": "stream",
          "name": "stdout",
          "text": [
            "SUSTANTIVO\n",
            "VERBO\n",
            "SUSTANTIVO\n",
            "La sentencia es valida: SVS\n",
            "SUSTANTIVO\n",
            "VERBO\n",
            "hola: no se reconoce\n",
            "JS:syntax error\n"
          ]
        }
      ]
    }
  ]
}